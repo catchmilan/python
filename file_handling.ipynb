{
  "nbformat": 4,
  "nbformat_minor": 0,
  "metadata": {
    "colab": {
      "name": "file handling.ipynb",
      "provenance": []
    },
    "kernelspec": {
      "name": "python3",
      "display_name": "Python 3"
    },
    "language_info": {
      "name": "python"
    }
  },
  "cells": [
    {
      "cell_type": "code",
      "execution_count": null,
      "metadata": {
        "id": "kVmKvP7gMVXc"
      },
      "outputs": [],
      "source": [
        "# import required module\n",
        "import os\n",
        "import re"
      ]
    },
    {
      "cell_type": "code",
      "source": [
        "\n",
        "# assign directory\n",
        "directory = '/content/sample_data/'\n",
        " "
      ],
      "metadata": {
        "id": "QBrYxuA-XTP0"
      },
      "execution_count": null,
      "outputs": []
    },
    {
      "cell_type": "code",
      "source": [
        "#import sqlite3 database. It is available in google colab.\n",
        "import sqlite3"
      ],
      "metadata": {
        "id": "hdoETjNmXh6p"
      },
      "execution_count": null,
      "outputs": []
    },
    {
      "cell_type": "code",
      "source": [
        "#connect the database. You do not need to create test.db. If not found. It will automatically executes.\n",
        "conn=sqlite3.connect('test.db')"
      ],
      "metadata": {
        "id": "Cp-bYkD4YnJz"
      },
      "execution_count": null,
      "outputs": []
    },
    {
      "cell_type": "code",
      "source": [
        "#Creating a table name demo2.\n",
        "conn.execute('''\n",
        "CREATE TABLE demo2 (\n",
        "   Inout varchar(255) NOT NULL,\n",
        "   Chalani varchar(255) NOT NULL,\n",
        "   Year varchar(255) NOT NULL,\n",
        "   Month varchar(255) NOT NULL,\n",
        "   Day varchar(255) NOT NULL,\n",
        "   Recipent varchar(255) NOT  NULL,\n",
        "   Subject varchar(255) NOT NULL,\n",
        "   Link varchar(255) NOT NULL\n",
        " );''')"
      ],
      "metadata": {
        "colab": {
          "base_uri": "https://localhost:8080/"
        },
        "id": "okj7Or03YpgJ",
        "outputId": "6320d94d-659f-4663-9a5c-b565af35a01a"
      },
      "execution_count": null,
      "outputs": [
        {
          "output_type": "execute_result",
          "data": {
            "text/plain": [
              "<sqlite3.Cursor at 0x7f1caba173b0>"
            ]
          },
          "metadata": {},
          "execution_count": 104
        }
      ]
    },
    {
      "cell_type": "code",
      "source": [
        "#It is essential command.\n",
        "conn.commit()"
      ],
      "metadata": {
        "id": "gqBiP1WdYrw5"
      },
      "execution_count": null,
      "outputs": []
    },
    {
      "cell_type": "code",
      "source": [
        "\n",
        "# iterate over files in\n",
        "# that directory\n",
        "for root, dirs, files in os.walk(directory):\n",
        "    for filename in files:\n",
        "        #split=filename.split('[_ .]')\n",
        "        split=re.split('[_ .]',filename)\n",
        "        print(split[0:3])\n",
        "        #for i in range(len(split)-1):\n",
        "        conn.execute(\"INSERT INTO demo2(Inout,Chalani,Year,Month,Day,Recipent,Subject,Link) VALUES(?,?,?,?,?,?,?,?)\",(split[0],split[1],split[2],split[3],split[4],split[5],split[6],filename))\n",
        "#print(filename)"
      ],
      "metadata": {
        "id": "BOF01dM4XVPG"
      },
      "execution_count": null,
      "outputs": []
    },
    {
      "cell_type": "code",
      "source": [
        "conn.commit()"
      ],
      "metadata": {
        "id": "YS2SX0g1awER"
      },
      "execution_count": null,
      "outputs": []
    },
    {
      "cell_type": "code",
      "source": [
        "#Select all record from table demo2.\n",
        "conn = sqlite3.connect('test.db')\n",
        "cursor = conn.execute(''' SELECT * FROM demo2 ''')\n",
        "for row in cursor:\n",
        "  print(row)"
      ],
      "metadata": {
        "id": "73yYWJewVJ25"
      },
      "execution_count": null,
      "outputs": []
    }
  ]
}